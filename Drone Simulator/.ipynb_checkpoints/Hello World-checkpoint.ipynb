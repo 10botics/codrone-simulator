{
 "cells": [
  {
   "cell_type": "markdown",
   "id": "d646b535-9cec-4171-b8aa-f403bbeb7114",
   "metadata": {},
   "source": [
    "This File will Test if you have sucessfully Setup to Control the Drone Simulator"
   ]
  },
  {
   "cell_type": "markdown",
   "id": "a9cbd976-af80-4c1e-9097-88ab2b30ade8",
   "metadata": {},
   "source": [
    "First, Open your Drone simulator before continuing"
   ]
  },
  {
   "cell_type": "markdown",
   "id": "c42f36cc-9295-4b90-a213-832ef830543c",
   "metadata": {},
   "source": [
    "Second, Select \"Free Play\" from the Main Menu"
   ]
  },
  {
   "cell_type": "markdown",
   "id": "6504e147-7587-4aa2-8654-4c7d10361d4f",
   "metadata": {},
   "source": [
    "Third, Select the Code below and Press on your Keybaord (Shift + Enter) to Run the Code"
   ]
  },
  {
   "cell_type": "code",
   "execution_count": null,
   "id": "0af8cc85-1d0f-427e-aeab-f86baaf2870c",
   "metadata": {},
   "outputs": [],
   "source": [
    "# In this example, drone will takeoff, move forward for 2 seconds and then land.\n",
    "from codrone_simulator import Drone\n",
    "from codrone_simulator import Note\n",
    "import time\n",
    "\n",
    "drone = Drone()\n",
    "drone.pair() # Controller will pair with Drone in Simulator\n",
    "\n",
    "# Executed Commands\n",
    "drone.takeoff() # Drone will take off from stationary\n",
    "\n",
    "drone.hover(2) # Drone will hover in the air for 2 seconds\n",
    "\n",
    "# \"A, B, C Song, Play Buzzer sounds\n",
    "drone.drone_buzzer(Note.C4, 1000)  # A\n",
    "time.sleep(0.1)\n",
    "drone.drone_buzzer(Note.C4, 1000)  # B\n",
    "time.sleep(0.1)\n",
    "drone.drone_buzzer(Note.G4, 1000)  # C\n",
    "time.sleep(0.1)\n",
    "\n",
    "drone.hover(2) # Drone will hover in the air for 2 seconds\n",
    "\n",
    "drone.land() # Drone will Land \n",
    "\n",
    "\n",
    "drone.close() # Drone closes Communication"
   ]
  },
  {
   "cell_type": "markdown",
   "id": "7b03f22b-cbc7-4860-a4f1-e49cfc84049e",
   "metadata": {},
   "source": [
    "After Runing the code above the Drone will Takeoff, Make Noise and Land"
   ]
  }
 ],
 "metadata": {
  "kernelspec": {
   "display_name": "Python 3 (ipykernel)",
   "language": "python",
   "name": "python3"
  },
  "language_info": {
   "codemirror_mode": {
    "name": "ipython",
    "version": 3
   },
   "file_extension": ".py",
   "mimetype": "text/x-python",
   "name": "python",
   "nbconvert_exporter": "python",
   "pygments_lexer": "ipython3",
   "version": "3.11.0"
  }
 },
 "nbformat": 4,
 "nbformat_minor": 5
}
